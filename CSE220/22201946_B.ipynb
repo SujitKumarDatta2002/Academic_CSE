{
 "cells": [
  {
   "cell_type": "code",
   "execution_count": 6,
   "metadata": {},
   "outputs": [
    {
     "name": "stdout",
     "output_type": "stream",
     "text": [
      "18 25 32 39 46 39 32 25 18 \n",
      "25 32 39 46 39 32 25 \n",
      "32 39 46 39 32 \n",
      "39 46 39 \n"
     ]
    }
   ],
   "source": [
    "def helper(x, n):\n",
    "    if n < x or n<=x:\n",
    "        return\n",
    "\n",
    "    print(n-7, end=\" \")\n",
    "\n",
    "    helper(x, n-7)\n",
    "\n",
    "def pattern(num, n, i = 0):\n",
    "\n",
    "    if  40 == num :\n",
    "        return num+7\n",
    "    if  num > 47 :\n",
    "        return num-7\n",
    "    print(num, end=\" \")\n",
    "    return pattern(num+7, n)\n",
    "    # helper(n, num)\n",
    "    # generator(num, num)\n",
    "\n",
    "\n",
    "\n",
    "\n",
    "def generator(num,n, i=0):\n",
    "    if i == 4 or 40<= num and num > 47:\n",
    "        return\n",
    "    print()\n",
    "    s = pattern(num, num)\n",
    "    helper(num, s)\n",
    "    print()\n",
    "    generator(num+7, num, i+1)\n",
    "    # \" \" * i\n",
    "\n",
    "\n",
    "\n",
    "# pattern(18, 18)\n",
    "generator(18, 18)"
   ]
  }
 ],
 "metadata": {
  "kernelspec": {
   "display_name": "Python 3",
   "language": "python",
   "name": "python3"
  },
  "language_info": {
   "codemirror_mode": {
    "name": "ipython",
    "version": 3
   },
   "file_extension": ".py",
   "mimetype": "text/x-python",
   "name": "python",
   "nbconvert_exporter": "python",
   "pygments_lexer": "ipython3",
   "version": "3.10.7"
  }
 },
 "nbformat": 4,
 "nbformat_minor": 2
}
