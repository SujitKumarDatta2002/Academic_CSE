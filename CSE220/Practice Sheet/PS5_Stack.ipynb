{
 "cells": [
  {
   "cell_type": "code",
   "execution_count": null,
   "metadata": {},
   "outputs": [],
   "source": []
  },
  {
   "cell_type": "code",
   "execution_count": null,
   "metadata": {},
   "outputs": [],
   "source": []
  },
  {
   "cell_type": "code",
   "execution_count": null,
   "metadata": {},
   "outputs": [],
   "source": []
  },
  {
   "cell_type": "code",
   "execution_count": null,
   "metadata": {},
   "outputs": [],
   "source": []
  },
  {
   "cell_type": "markdown",
   "metadata": {},
   "source": [
    "**Q5**"
   ]
  },
  {
   "cell_type": "code",
   "execution_count": 1,
   "metadata": {},
   "outputs": [
    {
     "ename": "ModuleNotFoundError",
     "evalue": "No module named 'Stack'",
     "output_type": "error",
     "traceback": [
      "\u001b[1;31m---------------------------------------------------------------------------\u001b[0m",
      "\u001b[1;31mModuleNotFoundError\u001b[0m                       Traceback (most recent call last)",
      "\u001b[1;32mf:\\Academic\\CSE220\\Practice Sheet\\PS5_Stack.ipynb Cell 6\u001b[0m line \u001b[0;36m1\n\u001b[1;32m----> <a href='vscode-notebook-cell:/f%3A/Academic/CSE220/Practice%20Sheet/PS5_Stack.ipynb#W5sZmlsZQ%3D%3D?line=0'>1</a>\u001b[0m \u001b[39mimport\u001b[39;00m \u001b[39mStack\u001b[39;00m\n\u001b[0;32m      <a href='vscode-notebook-cell:/f%3A/Academic/CSE220/Practice%20Sheet/PS5_Stack.ipynb#W5sZmlsZQ%3D%3D?line=1'>2</a>\u001b[0m \u001b[39mdef\u001b[39;00m \u001b[39mcafeteria\u001b[39m(std, sand):\n\u001b[0;32m      <a href='vscode-notebook-cell:/f%3A/Academic/CSE220/Practice%20Sheet/PS5_Stack.ipynb#W5sZmlsZQ%3D%3D?line=2'>3</a>\u001b[0m     st \u001b[39m=\u001b[39m Stack()\n",
      "\u001b[1;31mModuleNotFoundError\u001b[0m: No module named 'Stack'"
     ]
    }
   ],
   "source": [
    "import Stack\n",
    "def cafeteria(std, sand):\n",
    "    st = Stack()\n",
    "\n",
    "\n",
    "\n",
    "\n",
    "print(\"..........1............\")  #this will print 0\n",
    "students = [1,1,0,0], \n",
    "sandwiches = [0,1,0,1] \n",
    "print(\"..........1............\")  #this will print 3\n",
    "students = [1,1,1,0,0,1] \n",
    "sandwiches = [1,0,0,0,1,1] "
   ]
  },
  {
   "cell_type": "code",
   "execution_count": null,
   "metadata": {},
   "outputs": [],
   "source": [
    "def insert(elem):\n",
    "    temp = head\n",
    "    new = Node(elem, None)\n",
    "    new.next = temp\n",
    "    return temp\n",
    "\n",
    "def compress(M):\n",
    "    row, col = M.shape()\n",
    "    head = None\n",
    "    for i in range(row):\n",
    "        total = 0\n",
    "        for j in range(col):\n",
    "            if M[i][j] > 0:\n",
    "                total += M[i][j]\n",
    "        if total != 0:\n",
    "            head = insert(total)\n",
    "\n",
    "    if head != None:\n",
    "        return -1\n",
    "    return head"
   ]
  },
  {
   "cell_type": "code",
   "execution_count": null,
   "metadata": {},
   "outputs": [],
   "source": [
    "def equalStacks(stack1, stack2, stack3):\n",
    "    sum1 = stack1.sum()\n",
    "    sum2 = stack2.sum()\n",
    "    sum3 = stack3.sum()\n",
    "    if (stack1.sum() != stack2.sum()) and (stack2.sum() != stack3.sum()):\n",
    "        sum1.pop()\n",
    "        sum2.pop()\n",
    "        sum3.pop()\n",
    "    elif (stack1.sum() == stack2.sum()) and (stack2.sum() != stack3.sum()):\n",
    "        sum3.pop()\n",
    "    elif (stack1.sum() != stack2.sum()) and (stack2.sum() == stack3.sum()):\n",
    "        sum1.pop()\n",
    "\n",
    "    if stack3.sum() != -1 or stack3.sum() != None:\n",
    "        return stack3.sum()\n",
    "    return -1\n"
   ]
  }
 ],
 "metadata": {
  "kernelspec": {
   "display_name": "Python 3",
   "language": "python",
   "name": "python3"
  },
  "language_info": {
   "codemirror_mode": {
    "name": "ipython",
    "version": 3
   },
   "file_extension": ".py",
   "mimetype": "text/x-python",
   "name": "python",
   "nbconvert_exporter": "python",
   "pygments_lexer": "ipython3",
   "version": "3.10.7"
  }
 },
 "nbformat": 4,
 "nbformat_minor": 2
}
