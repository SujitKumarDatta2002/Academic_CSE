{
 "cells": [
  {
   "cell_type": "code",
   "execution_count": 1,
   "metadata": {},
   "outputs": [],
   "source": [
    "class BTNode:\n",
    "    def __init__(self, elem):\n",
    "        self.elem = elem\n",
    "        self.right = None\n",
    "        self.left = None"
   ]
  },
  {
   "cell_type": "code",
   "execution_count": 2,
   "metadata": {},
   "outputs": [],
   "source": [
    "def inorder(root):\n",
    "    if root == None:\n",
    "        return\n",
    "\n",
    "    inorder(root.left)\n",
    "    print(root.elem, end = ' ')\n",
    "    inorder(root.right)"
   ]
  },
  {
   "cell_type": "markdown",
   "metadata": {},
   "source": [
    "**1**"
   ]
  },
  {
   "cell_type": "code",
   "execution_count": 6,
   "metadata": {},
   "outputs": [
    {
     "name": "stdout",
     "output_type": "stream",
     "text": [
      "True\n"
     ]
    }
   ],
   "source": [
    "def isIdentical(root, node):\n",
    "    if root == None and node == None:\n",
    "        return True\n",
    "    if root == None or node == None :\n",
    "        return False\n",
    "    \n",
    "    if root.elem == node.elem:\n",
    "        return isIdentical(root.left, node.left) and isIdentical(root.right, node.right)\n",
    "\n",
    "    return False\n",
    "\n",
    "\n",
    "root = BTNode(1)\n",
    "n1 = BTNode(2)\n",
    "n2 = BTNode(3)\n",
    "n3 = BTNode(40)\n",
    "n4 = BTNode(60)\n",
    "\n",
    "root.left = n1\n",
    "root.right = n2\n",
    "\n",
    "# n1.left = n3\n",
    "# n1.right = n4\n",
    "\n",
    "\n",
    "root2 = BTNode(1)\n",
    "n1 = BTNode(2)\n",
    "n2 = BTNode(3)\n",
    "n3 = BTNode(40)\n",
    "n4 = BTNode(60)\n",
    "\n",
    "root2.left = n1\n",
    "root2.right = n2\n",
    "\n",
    "print(isIdentical(root, root2))"
   ]
  },
  {
   "cell_type": "markdown",
   "metadata": {},
   "source": [
    "2"
   ]
  },
  {
   "cell_type": "code",
   "execution_count": 8,
   "metadata": {},
   "outputs": [
    {
     "name": "stdout",
     "output_type": "stream",
     "text": [
      "40 20 60 10 30 \n",
      "30 10 60 20 40 "
     ]
    }
   ],
   "source": [
    "def mirror(root):\n",
    "    if root == None:\n",
    "        return \n",
    "    \n",
    "    temp = root.left\n",
    "    root.left = root.right\n",
    "    root.right = temp\n",
    "\n",
    "    mirror(root.left)\n",
    "    mirror(root.right)\n",
    "\n",
    "    return root\n",
    "\n",
    "\n",
    "root = BTNode(10)\n",
    "n1 = BTNode(20)\n",
    "n2 = BTNode(30)\n",
    "n3 = BTNode(40)\n",
    "n4 = BTNode(60)\n",
    "\n",
    "root.left = n1\n",
    "root.right = n2\n",
    "\n",
    "n1.left = n3\n",
    "n1.right = n4\n",
    "inorder(root)\n",
    "print()\n",
    "re = mirror(root)\n",
    "\n",
    "inorder(re)"
   ]
  },
  {
   "cell_type": "markdown",
   "metadata": {},
   "source": [
    "3"
   ]
  },
  {
   "cell_type": "code",
   "execution_count": 25,
   "metadata": {},
   "outputs": [
    {
     "name": "stdout",
     "output_type": "stream",
     "text": [
      "False\n"
     ]
    }
   ],
   "source": [
    "def height(root):\n",
    "    if root == None:\n",
    "        return 0\n",
    "        \n",
    "    return max(height(root.left), height(root.right))+1\n",
    "def isBalanced(root):\n",
    "        if root == None:\n",
    "            return True\n",
    "        left = height(root.left)\n",
    "        right = height(root.right)\n",
    "        if abs(left-right) <=1 and isBalanced(root.left) is True and isBalanced(root.right) is True:\n",
    "            return True\n",
    "        return False\n",
    "\n",
    "\n",
    "root = BTNode(10)\n",
    "n1 = BTNode(20)\n",
    "n2 = BTNode(30)\n",
    "n3 = BTNode(40)\n",
    "n4 = BTNode(60)\n",
    "\n",
    "root.left = n1\n",
    "n1.right = n2\n",
    "\n",
    "n2.left = n3\n",
    "n1.right = n4\n",
    "\n",
    "print(isBalanced(root))"
   ]
  },
  {
   "cell_type": "markdown",
   "metadata": {},
   "source": [
    "4"
   ]
  },
  {
   "cell_type": "code",
   "execution_count": 33,
   "metadata": {},
   "outputs": [
    {
     "name": "stdout",
     "output_type": "stream",
     "text": [
      "0\n"
     ]
    }
   ],
   "source": [
    "def isSameSum(root):\n",
    "\n",
    "    \n",
    "    \n",
    "    lefts = 0\n",
    "    rights = 0\n",
    "    if root == None or (root.left == None and root.right == None):\n",
    "        return 1\n",
    "    if (root.left != None):\n",
    "        lefts += root.elem \n",
    "    if (root.right != None):\n",
    "        rights += root.elem\n",
    "\n",
    "    if root.elem == lefts+ rights and (isSameSum(root.left) and isSameSum(root.right)):\n",
    "        return 1\n",
    "    else:\n",
    "        return 0\n",
    "root = BTNode(1)\n",
    "n1 = BTNode(4)\n",
    "n2 = BTNode(3)\n",
    "n3 = BTNode(5)\n",
    "n4 = BTNode(0)\n",
    "\n",
    "root.left = n1\n",
    "root.right = n2\n",
    "\n",
    "n1.left = n3\n",
    "n1.right = n4\n",
    "# root = BTNode(10)\n",
    "# n1 = BTNode(10)\n",
    "# root.left = n1\n",
    "print(isSameSum(root))"
   ]
  },
  {
   "cell_type": "code",
   "execution_count": 34,
   "metadata": {},
   "outputs": [
    {
     "name": "stdout",
     "output_type": "stream",
     "text": [
      "{0: 1, 1: 4, 2: 5}\n"
     ]
    }
   ],
   "source": [
    "def largestLevel(root):\n",
    "  # List<List<Integer>> result = new ArrayList<>();\n",
    "  if root == None:\n",
    "    return 0\n",
    "  result = {}\n",
    "  final = []\n",
    "  final.append(root)\n",
    "  count = 0\n",
    "  while len(final) !=0:\n",
    "    count += 1\n",
    "    level = len(final)\n",
    "    levelList = []\n",
    "    for i in range(level):\n",
    "      cur = final[0]\n",
    "      final = final[1:]\n",
    "      levelList.append(cur.elem)\n",
    "      if cur.left != None:\n",
    "        final.append(cur.left)\n",
    "      if cur.right != None:\n",
    "        final.append(cur.right)\n",
    "    temp = max(levelList)\n",
    "    result[count-1] = temp\n",
    "  return result\n",
    "\n",
    "\n",
    "\n",
    "root = BTNode(1)\n",
    "n1 = BTNode(4)\n",
    "n2 = BTNode(3)\n",
    "n3 = BTNode(5)\n",
    "n4 = BTNode(0)\n",
    "\n",
    "root.left = n1\n",
    "root.right = n2\n",
    "\n",
    "n1.left = n3\n",
    "n1.right = n4\n",
    "\n",
    "print(largestLevel(root))"
   ]
  }
 ],
 "metadata": {
  "kernelspec": {
   "display_name": "Python 3",
   "language": "python",
   "name": "python3"
  },
  "language_info": {
   "codemirror_mode": {
    "name": "ipython",
    "version": 3
   },
   "file_extension": ".py",
   "mimetype": "text/x-python",
   "name": "python",
   "nbconvert_exporter": "python",
   "pygments_lexer": "ipython3",
   "version": "3.10.7"
  }
 },
 "nbformat": 4,
 "nbformat_minor": 2
}
