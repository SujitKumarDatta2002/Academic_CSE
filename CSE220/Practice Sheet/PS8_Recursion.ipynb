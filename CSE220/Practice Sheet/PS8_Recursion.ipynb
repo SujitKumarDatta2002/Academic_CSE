{
 "cells": [
  {
   "cell_type": "markdown",
   "metadata": {},
   "source": [
    "**Q1**"
   ]
  },
  {
   "cell_type": "code",
   "execution_count": 3,
   "metadata": {},
   "outputs": [
    {
     "name": "stdout",
     "output_type": "stream",
     "text": [
      "9\n",
      "13\n",
      "3\n"
     ]
    }
   ],
   "source": [
    "def sumDigits(n):\n",
    "    numStr = str(n)\n",
    "    if int(numStr) % 10 == int(numStr):\n",
    "        return int(numStr)\n",
    "    last = int(numStr) % 10\n",
    "    result = last + sumDigits(int(numStr[:len(numStr)-1]))\n",
    "    return result\n",
    "\n",
    "\n",
    "\n",
    "print(sumDigits(126) )\n",
    "print(sumDigits(49) )\n",
    "print(sumDigits(12) )\n"
   ]
  },
  {
   "cell_type": "markdown",
   "metadata": {},
   "source": [
    "**Q2**"
   ]
  },
  {
   "cell_type": "code",
   "execution_count": 4,
   "metadata": {},
   "outputs": [
    {
     "name": "stdout",
     "output_type": "stream",
     "text": [
      "0\n",
      "2\n",
      "5\n"
     ]
    }
   ],
   "source": [
    "def bunnyEars2(num):\n",
    "    if num == 0:\n",
    "        return 0\n",
    "    if num % 2 == 0:\n",
    "        result = 3 + bunnyEars2(num-1)\n",
    "    else:\n",
    "        result = 2 + bunnyEars2(num-1)\n",
    "    return result\n",
    "\n",
    "\n",
    "\n",
    "print(bunnyEars2(0))\n",
    "print(bunnyEars2(1))\n",
    "print(bunnyEars2(2))\n"
   ]
  },
  {
   "cell_type": "markdown",
   "metadata": {},
   "source": [
    "**Q3**"
   ]
  },
  {
   "cell_type": "code",
   "execution_count": 17,
   "metadata": {},
   "outputs": [
    {
     "name": "stdout",
     "output_type": "stream",
     "text": [
      "2\n",
      "1\n",
      "0\n",
      "2\n",
      "0\n",
      "4\n"
     ]
    }
   ],
   "source": [
    "def count7(n):\n",
    "    numStr = str(n)\n",
    "    count = 0\n",
    "    if len(numStr) == 1:\n",
    "        if n % 10 == 7:\n",
    "            return 1\n",
    "        else:\n",
    "            return 0\n",
    "    if int(numStr) % 10 == int(numStr):\n",
    "        return 0\n",
    "    last = int(numStr) % 10\n",
    "    if last == 7:\n",
    "        count +=  1\n",
    "    result = count + count7(int(numStr[:len(numStr)-1]))\n",
    "    return result\n",
    "print(count7(717))\n",
    "print(count7(7))\n",
    "print(count7(8))\n",
    "print(count7(77))\n",
    "print(count7(123))\n",
    "print(count7(717727))"
   ]
  },
  {
   "cell_type": "markdown",
   "metadata": {},
   "source": [
    "**Q4**"
   ]
  },
  {
   "cell_type": "code",
   "execution_count": 2,
   "metadata": {},
   "outputs": [
    {
     "name": "stdout",
     "output_type": "stream",
     "text": [
      "4\n",
      "3\n",
      "0\n"
     ]
    }
   ],
   "source": [
    "def countX(string):\n",
    "    count = 0\n",
    "    idx = 0\n",
    "    if len(string) == 0:\n",
    "        return 0\n",
    "    if len(string) == 1:\n",
    "        if string[0] == 'x':\n",
    "            return 1\n",
    "        else:\n",
    "            return 0\n",
    "    if idx == len(string):\n",
    "        return 0\n",
    "    if string[idx] == 'x':\n",
    "        count +=  1\n",
    "    idx += 1\n",
    "    result = count + countX(string[idx:len(string)])\n",
    "    return result\n",
    "print(countX(\"xxhixx\"))\n",
    "print(countX(\"xhixhix\"))\n",
    "print(countX(\"hi\"))\n",
    "# print(countX(77))\n",
    "# print(countX(123))\n",
    "# print(countX(717727))"
   ]
  },
  {
   "cell_type": "markdown",
   "metadata": {},
   "source": [
    "**Q5**"
   ]
  },
  {
   "cell_type": "code",
   "execution_count": null,
   "metadata": {},
   "outputs": [],
   "source": []
  },
  {
   "cell_type": "markdown",
   "metadata": {},
   "source": [
    "**Q6**"
   ]
  },
  {
   "cell_type": "code",
   "execution_count": null,
   "metadata": {},
   "outputs": [],
   "source": []
  },
  {
   "cell_type": "markdown",
   "metadata": {},
   "source": [
    "# Extra"
   ]
  },
  {
   "cell_type": "code",
   "execution_count": null,
   "metadata": {},
   "outputs": [],
   "source": [
    "def lenOfDict(dic, store = [],size=0):\n",
    "    if dic == []:\n",
    "        return 0\n",
    "    if size >= len(dic):\n",
    "        return 0\n",
    "    else:\n",
    "\n",
    "        # store = list(dic.keys())\n",
    "        # store.pop(0)\n",
    "        return (1 + lenOfDict(dic, list(dic.keys())[size+1:]))\n",
    "\n",
    "dic = {'a':1, 'b':2, 'c':3}\n",
    "print(lenOfDict(dic))\n",
    "print(len(dic))\n",
    "r = dic.items()\n",
    "for i in r:\n",
    "    print(i)\n",
    "print(r)\n",
    "print(list(dic.keys()))"
   ]
  }
 ],
 "metadata": {
  "kernelspec": {
   "display_name": "Python 3",
   "language": "python",
   "name": "python3"
  },
  "language_info": {
   "codemirror_mode": {
    "name": "ipython",
    "version": 3
   },
   "file_extension": ".py",
   "mimetype": "text/x-python",
   "name": "python",
   "nbconvert_exporter": "python",
   "pygments_lexer": "ipython3",
   "version": "3.10.7"
  }
 },
 "nbformat": 4,
 "nbformat_minor": 2
}
