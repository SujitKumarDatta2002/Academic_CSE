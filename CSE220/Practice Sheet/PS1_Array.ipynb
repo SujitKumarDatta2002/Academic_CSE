{
 "cells": [
  {
   "cell_type": "markdown",
   "metadata": {},
   "source": [
    "**ARRAY**"
   ]
  },
  {
   "cell_type": "markdown",
   "metadata": {},
   "source": [
    "Question: 1"
   ]
  },
  {
   "cell_type": "code",
   "execution_count": 6,
   "metadata": {},
   "outputs": [
    {
     "name": "stdout",
     "output_type": "stream",
     "text": [
      "5\n"
     ]
    }
   ],
   "source": [
    "n, m = list(map(int, input().split()))\n",
    "a = list(map(int, input().split()))\n",
    "b = list(map(int, input().split()))\n",
    "# n, m = 6, 2\n",
    "# a = [85, 25, 1, 32, 54, 6]\n",
    "# b = [85, 2]\n",
    "# n, m =5, 3\n",
    "# a= [1, 2, 3, 4, 5]\n",
    "# b= [1, 2, 3]\n",
    "\n",
    "union = []\n",
    "for i in a:\n",
    "    if i not in b:\n",
    "        union.append(i)\n",
    "    else:\n",
    "        union.append(i)\n",
    "for j in b:\n",
    "    if j not in union:\n",
    "        union.append(j)\n",
    "\n",
    "print(len(union))"
   ]
  },
  {
   "cell_type": "markdown",
   "metadata": {},
   "source": [
    "Question: 2"
   ]
  },
  {
   "cell_type": "code",
   "execution_count": 3,
   "metadata": {},
   "outputs": [
    {
     "name": "stdout",
     "output_type": "stream",
     "text": [
      "[1, 3, 2, -7, -5, 11, 6, -1]\n"
     ]
    }
   ],
   "source": [
    "# N = int(input())\n",
    "N = 8\n",
    "arr =  [1, -1, 3, 2, -7, -5, 11, 6]\n",
    "i = 0\n",
    "j = N - 1\n",
    "for k in range(N):\n",
    "\n",
    "    if arr[k]>=0:\n",
    "        temp = arr[i+1]\n",
    "        arr[i+1] = arr[i]\n",
    "        arr[i] = temp\n",
    "print(arr)"
   ]
  },
  {
   "cell_type": "markdown",
   "metadata": {},
   "source": [
    "Question: 3"
   ]
  },
  {
   "cell_type": "code",
   "execution_count": 17,
   "metadata": {},
   "outputs": [
    {
     "name": "stdout",
     "output_type": "stream",
     "text": [
      "1 5\n"
     ]
    }
   ],
   "source": [
    "\n",
    "def subArraySum(arr, n, sum):\n",
    "    for i in range(0,n):\n",
    "        currentSum = arr[i]\n",
    "        if(currentSum == sum):\n",
    "            print(i)\n",
    "            return\n",
    "        else:\n",
    "            for j in range(i+1,n):\n",
    "                currentSum += arr[j]\n",
    "                if(currentSum == sum):\n",
    "                    print(i+1, j+1)\n",
    "                    return\n",
    "\n",
    "N = 10\n",
    "S = 15\n",
    "A = [1,2,3,4,5,6,7,8,9,10]\n",
    "# n = len(arr)\n",
    "sum = 15\n",
    "subArraySum(A, N, sum)"
   ]
  },
  {
   "cell_type": "markdown",
   "metadata": {},
   "source": [
    "Question: 4"
   ]
  },
  {
   "cell_type": "code",
   "execution_count": 1,
   "metadata": {},
   "outputs": [
    {
     "name": "stdout",
     "output_type": "stream",
     "text": [
      "5\n"
     ]
    }
   ],
   "source": [
    "arr = [1, 1, 1, 1, 1]\n",
    "\n",
    "n = int(input())\n",
    "x =  int(input())\n",
    "\n",
    "count = 0\n",
    "for i in arr:\n",
    "    if i == x:\n",
    "        count += 1\n",
    "        continue\n",
    "\n",
    "print(count)"
   ]
  },
  {
   "cell_type": "markdown",
   "metadata": {},
   "source": [
    "Question: 5"
   ]
  },
  {
   "cell_type": "code",
   "execution_count": 5,
   "metadata": {},
   "outputs": [
    {
     "name": "stdout",
     "output_type": "stream",
     "text": [
      "15\n"
     ]
    }
   ],
   "source": [
    "arr =  [7, 10, 4, 20, 15]\n",
    "\n",
    "n = int(input())\n",
    "x =  int(input())\n",
    "\n",
    "for i in range(len(arr)):\n",
    "    for j in range(i, len(arr)):\n",
    "        if arr[i] > arr[j]:\n",
    "            temp = arr[i]\n",
    "            arr[i] = arr[j]\n",
    "            arr[j] = temp\n",
    "\n",
    "print(arr[x-1])"
   ]
  },
  {
   "cell_type": "markdown",
   "metadata": {},
   "source": [
    "Question: 6"
   ]
  },
  {
   "cell_type": "code",
   "execution_count": 8,
   "metadata": {},
   "outputs": [
    {
     "name": "stdout",
     "output_type": "stream",
     "text": [
      "0 0 1\n"
     ]
    }
   ],
   "source": [
    "n = int(input())\n",
    "arr = [0, 1, 0]\n",
    "\n",
    "for i in range(n):\n",
    "    for j in range(i, len(arr)):\n",
    "        if arr[i] > arr[j]:\n",
    "            temp = arr[i]\n",
    "            arr[i] = arr[j]\n",
    "            arr[j] = temp\n",
    "\n",
    "## can i use .join() function?\n",
    "for idx in range(len(arr)):\n",
    "    if idx == len(arr)-1:\n",
    "        print(arr[idx])\n",
    "        break\n",
    "    print(arr[idx], end=\" \")"
   ]
  },
  {
   "cell_type": "markdown",
   "metadata": {},
   "source": [
    "Question: 7"
   ]
  },
  {
   "cell_type": "code",
   "execution_count": 13,
   "metadata": {},
   "outputs": [
    {
     "name": "stdout",
     "output_type": "stream",
     "text": [
      "No water will be trapped.\n"
     ]
    }
   ],
   "source": [
    "N = 3\n",
    "arr = [6,9,9]\n",
    "\n",
    "total = 0\n",
    "for i in range(1, len(arr)-1):\n",
    "    if arr[i] < arr[0]:\n",
    "        total += arr[0] - arr[i]\n",
    "\n",
    "if total == 0:\n",
    "    print(\"No water will be trapped.\")\n",
    "\n",
    "else:\n",
    "    print(total)"
   ]
  },
  {
   "cell_type": "markdown",
   "metadata": {},
   "source": [
    "Question: 8"
   ]
  },
  {
   "cell_type": "code",
   "execution_count": 16,
   "metadata": {},
   "outputs": [
    {
     "name": "stdout",
     "output_type": "stream",
     "text": [
      "4 2 8 7 10 9\n"
     ]
    }
   ],
   "source": [
    "n = 6\n",
    "arr = [2,4,7,8,9,10]\n",
    "\n",
    "def waveArray(arr, n):\n",
    "    for i in range(0, len(arr)-1, 2):\n",
    "        temp = arr[i+1]\n",
    "        arr[i+1], arr[i] = arr[i], temp\n",
    "\n",
    "if n % 2 == 0:\n",
    "    waveArray(arr,n)\n",
    "else:\n",
    "    waveArray(arr, n-1)\n",
    "\n",
    "for idx in range(len(arr)):\n",
    "    if idx == len(arr)-1:\n",
    "        print(arr[idx])\n",
    "        break\n",
    "    print(arr[idx], end=\" \")"
   ]
  },
  {
   "cell_type": "markdown",
   "metadata": {},
   "source": [
    "Question: 9"
   ]
  },
  {
   "cell_type": "code",
   "execution_count": 26,
   "metadata": {},
   "outputs": [
    {
     "name": "stdout",
     "output_type": "stream",
     "text": [
      "-1\n"
     ]
    }
   ],
   "source": [
    "N = 3\n",
    "A = [1,2,3]\n",
    "\n",
    "counter = 0\n",
    "for val in A:\n",
    "    tracker = 0\n",
    "    for i in range(len(A)):\n",
    "        if val == A[i]:\n",
    "            tracker += 1\n",
    "    \n",
    "    if tracker > counter:\n",
    "        counter = tracker\n",
    "\n",
    "if counter > (N//2):\n",
    "    print(counter)\n",
    "else:\n",
    "    print(-1)"
   ]
  },
  {
   "cell_type": "markdown",
   "metadata": {},
   "source": [
    "Question: 10"
   ]
  },
  {
   "cell_type": "code",
   "execution_count": 8,
   "metadata": {},
   "outputs": [
    {
     "name": "stdout",
     "output_type": "stream",
     "text": [
      "3\n"
     ]
    }
   ],
   "source": [
    "N = 11\n",
    "arr = [1, 3, 5, 8, 9, 2, 6, 7, 6, 8, 9]\n",
    "\n",
    "# N = 6\n",
    "# arr = [1, 4, 3, 2, 6, 7]\n",
    "\n",
    "def reachToEnd(arr):\n",
    "    pointer = 0\n",
    "    counter = 0\n",
    "    for i in range(len(arr)):\n",
    "        if arr[i] != 0:\n",
    "            pointer += arr[i]\n",
    "            counter += 1\n",
    "            if pointer >= len(arr):\n",
    "                return counter-1\n",
    "    return -1\n",
    "\n",
    "\n",
    "print(reachToEnd(arr))"
   ]
  },
  {
   "cell_type": "markdown",
   "metadata": {},
   "source": [
    "Question: 11"
   ]
  },
  {
   "cell_type": "code",
   "execution_count": 8,
   "metadata": {},
   "outputs": [
    {
     "name": "stdout",
     "output_type": "stream",
     "text": [
      "5\n"
     ]
    }
   ],
   "source": [
    "k = 2\n",
    "N = 4\n",
    "arr = [1, 5, 8, 10]\n",
    "\n",
    "# k = 3\n",
    "# N = 5\n",
    "# arr = [3, 9, 12, 16, 20]\n",
    "\n",
    "for i in range(len(arr)):\n",
    "    if (arr[i] - k) > 0:\n",
    "        temp = arr[i]\n",
    "        arr[i] = temp - k\n",
    "    else:\n",
    "        arr[i] = arr[i] + k\n",
    "\n",
    "max = arr[0]\n",
    "min = arr[0]\n",
    "\n",
    "for j in range(len(arr)):\n",
    "    if max < arr[j]:\n",
    "        max=arr[j]\n",
    "    if min > arr[j]:\n",
    "        min=arr[j]\n",
    "\n",
    "print(max-min)"
   ]
  },
  {
   "cell_type": "markdown",
   "metadata": {},
   "source": [
    "Question: 12"
   ]
  },
  {
   "cell_type": "code",
   "execution_count": null,
   "metadata": {},
   "outputs": [],
   "source": []
  },
  {
   "cell_type": "markdown",
   "metadata": {},
   "source": [
    "Question: 13"
   ]
  },
  {
   "cell_type": "code",
   "execution_count": null,
   "metadata": {},
   "outputs": [],
   "source": []
  },
  {
   "cell_type": "markdown",
   "metadata": {},
   "source": [
    "Question: 14"
   ]
  },
  {
   "cell_type": "code",
   "execution_count": null,
   "metadata": {},
   "outputs": [],
   "source": []
  },
  {
   "cell_type": "markdown",
   "metadata": {},
   "source": [
    "Question: 15"
   ]
  },
  {
   "cell_type": "code",
   "execution_count": null,
   "metadata": {},
   "outputs": [],
   "source": []
  },
  {
   "cell_type": "markdown",
   "metadata": {},
   "source": [
    "**CIRCULAR ARRAY**"
   ]
  },
  {
   "cell_type": "markdown",
   "metadata": {},
   "source": [
    "Question: 1"
   ]
  },
  {
   "cell_type": "code",
   "execution_count": null,
   "metadata": {},
   "outputs": [],
   "source": []
  },
  {
   "cell_type": "markdown",
   "metadata": {},
   "source": [
    "Question: 2"
   ]
  },
  {
   "cell_type": "code",
   "execution_count": null,
   "metadata": {},
   "outputs": [],
   "source": []
  },
  {
   "cell_type": "markdown",
   "metadata": {},
   "source": [
    "Question: 3"
   ]
  },
  {
   "cell_type": "code",
   "execution_count": null,
   "metadata": {},
   "outputs": [],
   "source": []
  },
  {
   "cell_type": "markdown",
   "metadata": {},
   "source": [
    "Question: 4"
   ]
  },
  {
   "cell_type": "code",
   "execution_count": null,
   "metadata": {},
   "outputs": [],
   "source": []
  },
  {
   "cell_type": "markdown",
   "metadata": {},
   "source": [
    "Question: 5"
   ]
  },
  {
   "cell_type": "code",
   "execution_count": null,
   "metadata": {},
   "outputs": [],
   "source": []
  },
  {
   "cell_type": "markdown",
   "metadata": {},
   "source": [
    "Question: 6"
   ]
  },
  {
   "cell_type": "code",
   "execution_count": null,
   "metadata": {},
   "outputs": [],
   "source": []
  },
  {
   "cell_type": "markdown",
   "metadata": {},
   "source": [
    "Question: 7"
   ]
  },
  {
   "cell_type": "code",
   "execution_count": null,
   "metadata": {},
   "outputs": [],
   "source": []
  },
  {
   "cell_type": "markdown",
   "metadata": {},
   "source": [
    "Question: 8"
   ]
  },
  {
   "cell_type": "code",
   "execution_count": null,
   "metadata": {},
   "outputs": [],
   "source": []
  },
  {
   "cell_type": "markdown",
   "metadata": {},
   "source": [
    "Question: 9"
   ]
  },
  {
   "cell_type": "code",
   "execution_count": null,
   "metadata": {},
   "outputs": [],
   "source": []
  }
 ],
 "metadata": {
  "kernelspec": {
   "display_name": "venv",
   "language": "python",
   "name": "python3"
  },
  "language_info": {
   "codemirror_mode": {
    "name": "ipython",
    "version": 3
   },
   "file_extension": ".py",
   "mimetype": "text/x-python",
   "name": "python",
   "nbconvert_exporter": "python",
   "pygments_lexer": "ipython3",
   "version": "3.10.7"
  },
  "orig_nbformat": 4
 },
 "nbformat": 4,
 "nbformat_minor": 2
}
