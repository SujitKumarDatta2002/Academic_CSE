{
 "cells": [
  {
   "cell_type": "code",
   "execution_count": 1,
   "metadata": {},
   "outputs": [],
   "source": [
    "class Node:  \n",
    "    def __init__(self, elem, next):  \n",
    "        self.elem = elem  \n",
    "        self.next = next"
   ]
  },
  {
   "cell_type": "code",
   "execution_count": 9,
   "metadata": {},
   "outputs": [],
   "source": [
    "# User difines function\n",
    "\n",
    "def createList(arr):\n",
    "    head = Node(arr[0], None)\n",
    "    temp = head\n",
    "    for i in range(1, len(arr)):\n",
    "        new = Node(arr[i], None)\n",
    "        temp.next = new\n",
    "        temp = new\n",
    "    return head\n",
    "\n",
    "def printList(head):\n",
    "\n",
    "    temp = head\n",
    "    while temp != None:\n",
    "        if temp.next == None:\n",
    "            print(temp.elem)\n",
    "        else:\n",
    "            print(temp.elem, end = \"-->\")\n",
    "        temp = temp.next\n"
   ]
  },
  {
   "cell_type": "markdown",
   "metadata": {},
   "source": [
    "**Q1**"
   ]
  },
  {
   "cell_type": "code",
   "execution_count": 10,
   "metadata": {},
   "outputs": [
    {
     "name": "stdout",
     "output_type": "stream",
     "text": [
      "............Test case 1............\n",
      "5-->1-->2-->3-->4\n",
      "............Test case 2............\n",
      "12-->3-->8-->1-->5-->7\n"
     ]
    }
   ],
   "source": [
    "def lastNode(head):\n",
    "    temp = head\n",
    "    while temp.next.next != None:\n",
    "        temp = temp.next\n",
    "    return temp\n",
    "\n",
    "def lastToFirst(head):\n",
    "    if head.next == None:\n",
    "        return head\n",
    "\n",
    "    last2nd = lastNode(head)\n",
    "    last = last2nd.next\n",
    "    last2nd.next = None\n",
    "    current = head\n",
    "    last.next = head\n",
    "    head = last\n",
    "    return head\n",
    "\n",
    "print(\"............Test case 1............\")\n",
    "head = createList([1,2,3,4,5])\n",
    "ltf = lastToFirst(head)\n",
    "printList(ltf)\n",
    "print(\"............Test case 2............\")\n",
    "head = createList([3, 8, 1, 5, 7, 12])\n",
    "ltf = lastToFirst(head)\n",
    "printList(ltf)"
   ]
  }
 ],
 "metadata": {
  "kernelspec": {
   "display_name": "Python 3",
   "language": "python",
   "name": "python3"
  },
  "language_info": {
   "codemirror_mode": {
    "name": "ipython",
    "version": 3
   },
   "file_extension": ".py",
   "mimetype": "text/x-python",
   "name": "python",
   "nbconvert_exporter": "python",
   "pygments_lexer": "ipython3",
   "version": "3.10.7"
  }
 },
 "nbformat": 4,
 "nbformat_minor": 2
}
