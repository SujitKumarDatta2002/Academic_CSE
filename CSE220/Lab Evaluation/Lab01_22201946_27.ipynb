{
 "cells": [
  {
   "cell_type": "code",
   "execution_count": 29,
   "metadata": {},
   "outputs": [
    {
     "name": "stdout",
     "output_type": "stream",
     "text": [
      "Group 1:  120, 30\n",
      "Group 2:  100, 50\n",
      "Group 3:  150\n",
      ">>>>>>>>>>>\n",
      "Group 1:  60, 120\n",
      "Group 2:  150, 30\n",
      "Ungrouped 60\n",
      "Ungrouped 30\n",
      ">>>>>>>>>>>\n",
      "Group 1:  30, 150\n",
      "Ungrouped 150\n"
     ]
    }
   ],
   "source": [
    "import numpy as np\n",
    "\n",
    "def remover(arr, el1, el2):\n",
    "    for i in range(len(arr)):\n",
    "        if arr[i] == el1 or arr[i] == el2:\n",
    "            arr[i] = 0\n",
    "            break\n",
    "    return arr\n",
    "\n",
    "def findGroups(arr, target):\n",
    "\n",
    "    result = ''\n",
    "    ungruped = ''\n",
    "    un = np.zeros(len(arr), dtype=int)\n",
    "    n = 1\n",
    "    for i in range(len(arr)):\n",
    "        if arr[i] == target:\n",
    "            result = str(arr[i])\n",
    "            print(f\"Group {n}:  {result}\")\n",
    "            n += 1\n",
    "            arr[i] = 0\n",
    "            # remover(arr, arr[i], 0)\n",
    "        else:\n",
    "            for j in range(i, len(arr)):\n",
    "                if (arr[i]+arr[j]) == target:\n",
    "                    result = str(arr[i]) + ', ' + str(arr[j])\n",
    "                    print(f\"Group {n}:  {result}\")\n",
    "                    n += 1\n",
    "                    arr[i] = 0\n",
    "                    arr[j] = 0\n",
    "                    # remover(arr, arr[j], arr[i])\n",
    "                else:\n",
    "                    ungruped += str(arr[j]) + ', '\n",
    "    l = 0\n",
    "    for k in range(len(arr)):\n",
    "        if arr[k] != 0:\n",
    "            un[l] = arr[k]\n",
    "            print(\"Ungrouped\", arr[k])\n",
    "            l += 1\n",
    "    # print(\"result\", result)\n",
    "    # print(\"ungruped\", ungruped)\n",
    "    # print(un)\n",
    "\n",
    "\n",
    "findGroups([120, 100, 150, 50, 30], 150)\n",
    "# Group 1 : 120, 30\n",
    "# Group 2 : 100, 50\n",
    "# Group 3 : 150\n",
    "\n",
    "print(\">>>>>>>>>>>\")\n",
    "\n",
    "findGroups([60, 150, 60, 30, 120, 30], 180)\n",
    "\n",
    "print(\">>>>>>>>>>>\")\n",
    "\n",
    "# Group 1 : 60, 120\n",
    "# Group 2 : 30, 150\n",
    "# Ungrouped : 30 60\n",
    "findGroups([30, 150, 150], 180)\n"
   ]
  }
 ],
 "metadata": {
  "kernelspec": {
   "display_name": "Python 3",
   "language": "python",
   "name": "python3"
  },
  "language_info": {
   "codemirror_mode": {
    "name": "ipython",
    "version": 3
   },
   "file_extension": ".py",
   "mimetype": "text/x-python",
   "name": "python",
   "nbconvert_exporter": "python",
   "pygments_lexer": "ipython3",
   "version": "3.10.7"
  }
 },
 "nbformat": 4,
 "nbformat_minor": 2
}
